{
 "cells": [
  {
   "cell_type": "code",
   "execution_count": 300,
   "metadata": {},
   "outputs": [],
   "source": [
    "#importing the necessary libraries\n",
    "import pandas as pd\n",
    "import numpy as np\n",
    "import matplotlib.pyplot as plt\n",
    "import seaborn as sns\n",
    "from tqdm import tqdm\n",
    "from sklearn.preprocessing import MinMaxScaler\n",
    "scaler = MinMaxScaler(feature_range=(0, 1))\n",
    "from sklearn.impute import SimpleImputer"
   ]
  },
  {
   "cell_type": "code",
   "execution_count": 301,
   "metadata": {},
   "outputs": [
    {
     "output_type": "execute_result",
     "data": {
      "text/plain": [
       "       number incident_state  active  reassignment_count  reopen_count  \\\n",
       "0  INC0000045            New    True                   0             0   \n",
       "1  INC0000045       Resolved    True                   0             0   \n",
       "2  INC0000045       Resolved    True                   0             0   \n",
       "3  INC0000045         Closed   False                   0             0   \n",
       "4  INC0000047            New    True                   0             0   \n",
       "\n",
       "   sys_mod_count  made_sla    caller_id       opened_by        opened_at  ...  \\\n",
       "0              0      True  Caller 2403    Opened by  8  29/2/2016 01:16  ...   \n",
       "1              2      True  Caller 2403    Opened by  8  29/2/2016 01:16  ...   \n",
       "2              3      True  Caller 2403    Opened by  8  29/2/2016 01:16  ...   \n",
       "3              4      True  Caller 2403    Opened by  8  29/2/2016 01:16  ...   \n",
       "4              0      True  Caller 2403  Opened by  397  29/2/2016 04:40  ...   \n",
       "\n",
       "  u_priority_confirmation         notify problem_id rfc vendor caused_by  \\\n",
       "0                   False  Do Not Notify          ?   ?      ?         ?   \n",
       "1                   False  Do Not Notify          ?   ?      ?         ?   \n",
       "2                   False  Do Not Notify          ?   ?      ?         ?   \n",
       "3                   False  Do Not Notify          ?   ?      ?         ?   \n",
       "4                   False  Do Not Notify          ?   ?      ?         ?   \n",
       "\n",
       "  closed_code      resolved_by      resolved_at       closed_at  \n",
       "0      code 5  Resolved by 149  29/2/2016 11:29  5/3/2016 12:00  \n",
       "1      code 5  Resolved by 149  29/2/2016 11:29  5/3/2016 12:00  \n",
       "2      code 5  Resolved by 149  29/2/2016 11:29  5/3/2016 12:00  \n",
       "3      code 5  Resolved by 149  29/2/2016 11:29  5/3/2016 12:00  \n",
       "4      code 5   Resolved by 81   1/3/2016 09:52  6/3/2016 10:00  \n",
       "\n",
       "[5 rows x 36 columns]"
      ],
      "text/html": "<div>\n<style scoped>\n    .dataframe tbody tr th:only-of-type {\n        vertical-align: middle;\n    }\n\n    .dataframe tbody tr th {\n        vertical-align: top;\n    }\n\n    .dataframe thead th {\n        text-align: right;\n    }\n</style>\n<table border=\"1\" class=\"dataframe\">\n  <thead>\n    <tr style=\"text-align: right;\">\n      <th></th>\n      <th>number</th>\n      <th>incident_state</th>\n      <th>active</th>\n      <th>reassignment_count</th>\n      <th>reopen_count</th>\n      <th>sys_mod_count</th>\n      <th>made_sla</th>\n      <th>caller_id</th>\n      <th>opened_by</th>\n      <th>opened_at</th>\n      <th>...</th>\n      <th>u_priority_confirmation</th>\n      <th>notify</th>\n      <th>problem_id</th>\n      <th>rfc</th>\n      <th>vendor</th>\n      <th>caused_by</th>\n      <th>closed_code</th>\n      <th>resolved_by</th>\n      <th>resolved_at</th>\n      <th>closed_at</th>\n    </tr>\n  </thead>\n  <tbody>\n    <tr>\n      <th>0</th>\n      <td>INC0000045</td>\n      <td>New</td>\n      <td>True</td>\n      <td>0</td>\n      <td>0</td>\n      <td>0</td>\n      <td>True</td>\n      <td>Caller 2403</td>\n      <td>Opened by  8</td>\n      <td>29/2/2016 01:16</td>\n      <td>...</td>\n      <td>False</td>\n      <td>Do Not Notify</td>\n      <td>?</td>\n      <td>?</td>\n      <td>?</td>\n      <td>?</td>\n      <td>code 5</td>\n      <td>Resolved by 149</td>\n      <td>29/2/2016 11:29</td>\n      <td>5/3/2016 12:00</td>\n    </tr>\n    <tr>\n      <th>1</th>\n      <td>INC0000045</td>\n      <td>Resolved</td>\n      <td>True</td>\n      <td>0</td>\n      <td>0</td>\n      <td>2</td>\n      <td>True</td>\n      <td>Caller 2403</td>\n      <td>Opened by  8</td>\n      <td>29/2/2016 01:16</td>\n      <td>...</td>\n      <td>False</td>\n      <td>Do Not Notify</td>\n      <td>?</td>\n      <td>?</td>\n      <td>?</td>\n      <td>?</td>\n      <td>code 5</td>\n      <td>Resolved by 149</td>\n      <td>29/2/2016 11:29</td>\n      <td>5/3/2016 12:00</td>\n    </tr>\n    <tr>\n      <th>2</th>\n      <td>INC0000045</td>\n      <td>Resolved</td>\n      <td>True</td>\n      <td>0</td>\n      <td>0</td>\n      <td>3</td>\n      <td>True</td>\n      <td>Caller 2403</td>\n      <td>Opened by  8</td>\n      <td>29/2/2016 01:16</td>\n      <td>...</td>\n      <td>False</td>\n      <td>Do Not Notify</td>\n      <td>?</td>\n      <td>?</td>\n      <td>?</td>\n      <td>?</td>\n      <td>code 5</td>\n      <td>Resolved by 149</td>\n      <td>29/2/2016 11:29</td>\n      <td>5/3/2016 12:00</td>\n    </tr>\n    <tr>\n      <th>3</th>\n      <td>INC0000045</td>\n      <td>Closed</td>\n      <td>False</td>\n      <td>0</td>\n      <td>0</td>\n      <td>4</td>\n      <td>True</td>\n      <td>Caller 2403</td>\n      <td>Opened by  8</td>\n      <td>29/2/2016 01:16</td>\n      <td>...</td>\n      <td>False</td>\n      <td>Do Not Notify</td>\n      <td>?</td>\n      <td>?</td>\n      <td>?</td>\n      <td>?</td>\n      <td>code 5</td>\n      <td>Resolved by 149</td>\n      <td>29/2/2016 11:29</td>\n      <td>5/3/2016 12:00</td>\n    </tr>\n    <tr>\n      <th>4</th>\n      <td>INC0000047</td>\n      <td>New</td>\n      <td>True</td>\n      <td>0</td>\n      <td>0</td>\n      <td>0</td>\n      <td>True</td>\n      <td>Caller 2403</td>\n      <td>Opened by  397</td>\n      <td>29/2/2016 04:40</td>\n      <td>...</td>\n      <td>False</td>\n      <td>Do Not Notify</td>\n      <td>?</td>\n      <td>?</td>\n      <td>?</td>\n      <td>?</td>\n      <td>code 5</td>\n      <td>Resolved by 81</td>\n      <td>1/3/2016 09:52</td>\n      <td>6/3/2016 10:00</td>\n    </tr>\n  </tbody>\n</table>\n<p>5 rows × 36 columns</p>\n</div>"
     },
     "metadata": {},
     "execution_count": 301
    }
   ],
   "source": [
    "#importing the incident dataset for analysis\n",
    "incident=pd.read_csv(\"./Data/incident_event_log.csv\")\n",
    "incident.head()"
   ]
  },
  {
   "cell_type": "code",
   "execution_count": 302,
   "metadata": {},
   "outputs": [
    {
     "output_type": "execute_result",
     "data": {
      "text/plain": [
       "(141712, 36)"
      ]
     },
     "metadata": {},
     "execution_count": 302
    }
   ],
   "source": [
    "#Analysing the shape of the dataframe\n",
    "incident.shape"
   ]
  },
  {
   "cell_type": "code",
   "execution_count": 303,
   "metadata": {},
   "outputs": [
    {
     "output_type": "execute_result",
     "data": {
      "text/plain": [
       "number                     0\n",
       "incident_state             0\n",
       "active                     0\n",
       "reassignment_count         0\n",
       "reopen_count               0\n",
       "sys_mod_count              0\n",
       "made_sla                   0\n",
       "caller_id                  0\n",
       "opened_by                  0\n",
       "opened_at                  0\n",
       "sys_created_by             0\n",
       "sys_created_at             0\n",
       "sys_updated_by             0\n",
       "sys_updated_at             0\n",
       "contact_type               0\n",
       "location                   0\n",
       "category                   0\n",
       "subcategory                0\n",
       "u_symptom                  0\n",
       "cmdb_ci                    0\n",
       "impact                     0\n",
       "urgency                    0\n",
       "priority                   0\n",
       "assignment_group           0\n",
       "assigned_to                0\n",
       "knowledge                  0\n",
       "u_priority_confirmation    0\n",
       "notify                     0\n",
       "problem_id                 0\n",
       "rfc                        0\n",
       "vendor                     0\n",
       "caused_by                  0\n",
       "closed_code                0\n",
       "resolved_by                0\n",
       "resolved_at                0\n",
       "closed_at                  0\n",
       "dtype: int64"
      ]
     },
     "metadata": {},
     "execution_count": 303
    }
   ],
   "source": [
    "#Calculating NA's in each column\n",
    "incident.isnull().sum(axis=0) "
   ]
  },
  {
   "cell_type": "code",
   "execution_count": 304,
   "metadata": {},
   "outputs": [
    {
     "output_type": "execute_result",
     "data": {
      "text/plain": [
       "number                     object\n",
       "incident_state             object\n",
       "active                       bool\n",
       "reassignment_count          int64\n",
       "reopen_count                int64\n",
       "sys_mod_count               int64\n",
       "made_sla                     bool\n",
       "caller_id                  object\n",
       "opened_by                  object\n",
       "opened_at                  object\n",
       "sys_created_by             object\n",
       "sys_created_at             object\n",
       "sys_updated_by             object\n",
       "sys_updated_at             object\n",
       "contact_type               object\n",
       "location                   object\n",
       "category                   object\n",
       "subcategory                object\n",
       "u_symptom                  object\n",
       "cmdb_ci                    object\n",
       "impact                     object\n",
       "urgency                    object\n",
       "priority                   object\n",
       "assignment_group           object\n",
       "assigned_to                object\n",
       "knowledge                    bool\n",
       "u_priority_confirmation      bool\n",
       "notify                     object\n",
       "problem_id                 object\n",
       "rfc                        object\n",
       "vendor                     object\n",
       "caused_by                  object\n",
       "closed_code                object\n",
       "resolved_by                object\n",
       "resolved_at                object\n",
       "closed_at                  object\n",
       "dtype: object"
      ]
     },
     "metadata": {},
     "execution_count": 304
    }
   ],
   "source": [
    "#Checking for the datatypes present in the dataframe\n",
    "incident.dtypes"
   ]
  },
  {
   "source": [
    "#Estimating the range of values in the dataset\n",
    "incident.describe()"
   ],
   "cell_type": "code",
   "execution_count": 305,
   "metadata": {},
   "outputs": [
    {
     "output_type": "execute_result",
     "data": {
      "text/plain": [
       "       reassignment_count   reopen_count  sys_mod_count\n",
       "count       141712.000000  141712.000000  141712.000000\n",
       "mean             1.104197       0.021918       5.080946\n",
       "std              1.734673       0.207302       7.680652\n",
       "min              0.000000       0.000000       0.000000\n",
       "25%              0.000000       0.000000       1.000000\n",
       "50%              1.000000       0.000000       3.000000\n",
       "75%              1.000000       0.000000       6.000000\n",
       "max             27.000000       8.000000     129.000000"
      ],
      "text/html": "<div>\n<style scoped>\n    .dataframe tbody tr th:only-of-type {\n        vertical-align: middle;\n    }\n\n    .dataframe tbody tr th {\n        vertical-align: top;\n    }\n\n    .dataframe thead th {\n        text-align: right;\n    }\n</style>\n<table border=\"1\" class=\"dataframe\">\n  <thead>\n    <tr style=\"text-align: right;\">\n      <th></th>\n      <th>reassignment_count</th>\n      <th>reopen_count</th>\n      <th>sys_mod_count</th>\n    </tr>\n  </thead>\n  <tbody>\n    <tr>\n      <th>count</th>\n      <td>141712.000000</td>\n      <td>141712.000000</td>\n      <td>141712.000000</td>\n    </tr>\n    <tr>\n      <th>mean</th>\n      <td>1.104197</td>\n      <td>0.021918</td>\n      <td>5.080946</td>\n    </tr>\n    <tr>\n      <th>std</th>\n      <td>1.734673</td>\n      <td>0.207302</td>\n      <td>7.680652</td>\n    </tr>\n    <tr>\n      <th>min</th>\n      <td>0.000000</td>\n      <td>0.000000</td>\n      <td>0.000000</td>\n    </tr>\n    <tr>\n      <th>25%</th>\n      <td>0.000000</td>\n      <td>0.000000</td>\n      <td>1.000000</td>\n    </tr>\n    <tr>\n      <th>50%</th>\n      <td>1.000000</td>\n      <td>0.000000</td>\n      <td>3.000000</td>\n    </tr>\n    <tr>\n      <th>75%</th>\n      <td>1.000000</td>\n      <td>0.000000</td>\n      <td>6.000000</td>\n    </tr>\n    <tr>\n      <th>max</th>\n      <td>27.000000</td>\n      <td>8.000000</td>\n      <td>129.000000</td>\n    </tr>\n  </tbody>\n</table>\n</div>"
     },
     "metadata": {},
     "execution_count": 305
    }
   ]
  },
  {
   "cell_type": "code",
   "execution_count": 306,
   "metadata": {},
   "outputs": [],
   "source": [
    "#df.drop(['cmdb_ci', 'problem_id', 'rfc', 'vendor','caused_by','caller_id','opened_by','sys_created_by','sys_updated_by','location','resolved_by','notify','assigned_to','assignment_group'],axis = 1,inplace=True)"
   ]
  },
  {
   "cell_type": "code",
   "execution_count": 307,
   "metadata": {},
   "outputs": [
    {
     "output_type": "stream",
     "name": "stdout",
     "text": [
      "<class 'pandas.core.frame.DataFrame'>\nRangeIndex: 141712 entries, 0 to 141711\nData columns (total 36 columns):\n #   Column                   Non-Null Count   Dtype \n---  ------                   --------------   ----- \n 0   number                   141712 non-null  object\n 1   incident_state           141712 non-null  object\n 2   active                   141712 non-null  bool  \n 3   reassignment_count       141712 non-null  int64 \n 4   reopen_count             141712 non-null  int64 \n 5   sys_mod_count            141712 non-null  int64 \n 6   made_sla                 141712 non-null  bool  \n 7   caller_id                141683 non-null  object\n 8   opened_by                136877 non-null  object\n 9   opened_at                141712 non-null  object\n 10  sys_created_by           88636 non-null   object\n 11  sys_created_at           88636 non-null   object\n 12  sys_updated_by           141712 non-null  object\n 13  sys_updated_at           141712 non-null  object\n 14  contact_type             141712 non-null  object\n 15  location                 141636 non-null  object\n 16  category                 141634 non-null  object\n 17  subcategory              141601 non-null  object\n 18  u_symptom                108748 non-null  object\n 19  cmdb_ci                  445 non-null     object\n 20  impact                   141712 non-null  object\n 21  urgency                  141712 non-null  object\n 22  priority                 141712 non-null  object\n 23  assignment_group         127499 non-null  object\n 24  assigned_to              114216 non-null  object\n 25  knowledge                141712 non-null  bool  \n 26  u_priority_confirmation  141712 non-null  bool  \n 27  notify                   141712 non-null  object\n 28  problem_id               2295 non-null    object\n 29  rfc                      991 non-null     object\n 30  vendor                   244 non-null     object\n 31  caused_by                23 non-null      object\n 32  closed_code              140998 non-null  object\n 33  resolved_by              141486 non-null  object\n 34  resolved_at              138571 non-null  object\n 35  closed_at                141712 non-null  object\ndtypes: bool(4), int64(3), object(29)\nmemory usage: 35.1+ MB\n"
     ]
    }
   ],
   "source": [
    " #Replacing ? in the dataframe\n",
    "incident.replace('?', np.NaN, inplace = True)\n",
    "incident.info()"
   ]
  },
  {
   "cell_type": "code",
   "execution_count": 308,
   "metadata": {},
   "outputs": [],
   "source": [
    "#Generating a heatmap to explore the columns which have most NA values\n",
    "#fig, ax = plt.subplots(figsize=(10,10))  \n",
    "#sns.heatmap(incident.isnull(), cmap='viridis',ax=ax) "
   ]
  },
  {
   "cell_type": "code",
   "execution_count": 309,
   "metadata": {},
   "outputs": [],
   "source": [
    "#Removing the columns which had NA values the most\n",
    "incident_processed = incident.drop(['cmdb_ci', 'problem_id', 'rfc', 'vendor', 'caused_by'],axis=1) "
   ]
  },
  {
   "cell_type": "code",
   "execution_count": 310,
   "metadata": {},
   "outputs": [],
   "source": [
    "#remove outliers\n",
    "incident_processed = incident_processed[incident_processed['incident_state'] != '-100' ]"
   ]
  },
  {
   "cell_type": "code",
   "execution_count": 311,
   "metadata": {},
   "outputs": [],
   "source": [
    "reass_count_labels = [1,2,3,4,5]\n",
    "incident_processed['reassignment_count'] = pd.cut(incident_processed['reassignment_count'],bins = 5, labels = reass_count_labels)"
   ]
  },
  {
   "cell_type": "code",
   "execution_count": 312,
   "metadata": {},
   "outputs": [],
   "source": [
    "#Replacing with mean for numerical columns\n",
    "df_imputer=SimpleImputer(missing_values=np.NaN, strategy='mean', verbose=0)\n",
    "df_imputer=df_imputer.fit(incident_processed.loc[:,['reopen_count', 'sys_mod_count']])# columns with missing values\n",
    "incident_processed.loc[:,['reopen_count', 'sys_mod_count']]=df_imputer.transform(incident_processed.loc[:,['reopen_count', 'sys_mod_count']])"
   ]
  },
  {
   "cell_type": "code",
   "execution_count": 313,
   "metadata": {},
   "outputs": [],
   "source": [
    "# replace subtypes of Awaiting incident state into main type of Awaiting\n",
    "incident_processed['incident_state'].replace(['Awaiting User Info','Awaiting Problem','Awaiting Vendor','Awaiting Evidence'],'Awaiting',inplace = True)"
   ]
  },
  {
   "cell_type": "code",
   "execution_count": 314,
   "metadata": {},
   "outputs": [
    {
     "output_type": "execute_result",
     "data": {
      "text/plain": [
       "array(['New', 'Resolved', 'Closed', 'Active', 'Awaiting'], dtype=object)"
      ]
     },
     "metadata": {},
     "execution_count": 314
    }
   ],
   "source": [
    "incident_processed['incident_state'].unique()"
   ]
  },
  {
   "cell_type": "code",
   "execution_count": 315,
   "metadata": {},
   "outputs": [],
   "source": [
    "#Replacing with mode for categorical columns\n",
    "for column in ['caller_id', 'opened_by', 'sys_created_by','sys_created_at','location','category','subcategory','u_symptom','assignment_group','assigned_to','closed_code','resolved_by','resolved_at']:\n",
    "    incident_processed[column].fillna(incident_processed[column].mode()[0], inplace=True) "
   ]
  },
  {
   "cell_type": "code",
   "execution_count": 316,
   "metadata": {},
   "outputs": [
    {
     "output_type": "execute_result",
     "data": {
      "text/plain": [
       "       number incident_state  active reassignment_count  reopen_count  \\\n",
       "0  INC0000045            New    True                  1           0.0   \n",
       "1  INC0000045       Resolved    True                  1           0.0   \n",
       "2  INC0000045       Resolved    True                  1           0.0   \n",
       "3  INC0000045         Closed   False                  1           0.0   \n",
       "4  INC0000047            New    True                  1           0.0   \n",
       "\n",
       "   sys_mod_count  made_sla    caller_id       opened_by        opened_at  ...  \\\n",
       "0            0.0      True  Caller 2403    Opened by  8  29/2/2016 01:16  ...   \n",
       "1            2.0      True  Caller 2403    Opened by  8  29/2/2016 01:16  ...   \n",
       "2            3.0      True  Caller 2403    Opened by  8  29/2/2016 01:16  ...   \n",
       "3            4.0      True  Caller 2403    Opened by  8  29/2/2016 01:16  ...   \n",
       "4            0.0      True  Caller 2403  Opened by  397  29/2/2016 04:40  ...   \n",
       "\n",
       "       priority assignment_group  assigned_to knowledge  \\\n",
       "0  3 - Moderate         Group 56  Resolver 17      True   \n",
       "1  3 - Moderate         Group 56  Resolver 17      True   \n",
       "2  3 - Moderate         Group 56  Resolver 17      True   \n",
       "3  3 - Moderate         Group 56  Resolver 17      True   \n",
       "4  3 - Moderate         Group 70  Resolver 89      True   \n",
       "\n",
       "  u_priority_confirmation         notify closed_code      resolved_by  \\\n",
       "0                   False  Do Not Notify      code 5  Resolved by 149   \n",
       "1                   False  Do Not Notify      code 5  Resolved by 149   \n",
       "2                   False  Do Not Notify      code 5  Resolved by 149   \n",
       "3                   False  Do Not Notify      code 5  Resolved by 149   \n",
       "4                   False  Do Not Notify      code 5   Resolved by 81   \n",
       "\n",
       "       resolved_at       closed_at  \n",
       "0  29/2/2016 11:29  5/3/2016 12:00  \n",
       "1  29/2/2016 11:29  5/3/2016 12:00  \n",
       "2  29/2/2016 11:29  5/3/2016 12:00  \n",
       "3  29/2/2016 11:29  5/3/2016 12:00  \n",
       "4   1/3/2016 09:52  6/3/2016 10:00  \n",
       "\n",
       "[5 rows x 31 columns]"
      ],
      "text/html": "<div>\n<style scoped>\n    .dataframe tbody tr th:only-of-type {\n        vertical-align: middle;\n    }\n\n    .dataframe tbody tr th {\n        vertical-align: top;\n    }\n\n    .dataframe thead th {\n        text-align: right;\n    }\n</style>\n<table border=\"1\" class=\"dataframe\">\n  <thead>\n    <tr style=\"text-align: right;\">\n      <th></th>\n      <th>number</th>\n      <th>incident_state</th>\n      <th>active</th>\n      <th>reassignment_count</th>\n      <th>reopen_count</th>\n      <th>sys_mod_count</th>\n      <th>made_sla</th>\n      <th>caller_id</th>\n      <th>opened_by</th>\n      <th>opened_at</th>\n      <th>...</th>\n      <th>priority</th>\n      <th>assignment_group</th>\n      <th>assigned_to</th>\n      <th>knowledge</th>\n      <th>u_priority_confirmation</th>\n      <th>notify</th>\n      <th>closed_code</th>\n      <th>resolved_by</th>\n      <th>resolved_at</th>\n      <th>closed_at</th>\n    </tr>\n  </thead>\n  <tbody>\n    <tr>\n      <th>0</th>\n      <td>INC0000045</td>\n      <td>New</td>\n      <td>True</td>\n      <td>1</td>\n      <td>0.0</td>\n      <td>0.0</td>\n      <td>True</td>\n      <td>Caller 2403</td>\n      <td>Opened by  8</td>\n      <td>29/2/2016 01:16</td>\n      <td>...</td>\n      <td>3 - Moderate</td>\n      <td>Group 56</td>\n      <td>Resolver 17</td>\n      <td>True</td>\n      <td>False</td>\n      <td>Do Not Notify</td>\n      <td>code 5</td>\n      <td>Resolved by 149</td>\n      <td>29/2/2016 11:29</td>\n      <td>5/3/2016 12:00</td>\n    </tr>\n    <tr>\n      <th>1</th>\n      <td>INC0000045</td>\n      <td>Resolved</td>\n      <td>True</td>\n      <td>1</td>\n      <td>0.0</td>\n      <td>2.0</td>\n      <td>True</td>\n      <td>Caller 2403</td>\n      <td>Opened by  8</td>\n      <td>29/2/2016 01:16</td>\n      <td>...</td>\n      <td>3 - Moderate</td>\n      <td>Group 56</td>\n      <td>Resolver 17</td>\n      <td>True</td>\n      <td>False</td>\n      <td>Do Not Notify</td>\n      <td>code 5</td>\n      <td>Resolved by 149</td>\n      <td>29/2/2016 11:29</td>\n      <td>5/3/2016 12:00</td>\n    </tr>\n    <tr>\n      <th>2</th>\n      <td>INC0000045</td>\n      <td>Resolved</td>\n      <td>True</td>\n      <td>1</td>\n      <td>0.0</td>\n      <td>3.0</td>\n      <td>True</td>\n      <td>Caller 2403</td>\n      <td>Opened by  8</td>\n      <td>29/2/2016 01:16</td>\n      <td>...</td>\n      <td>3 - Moderate</td>\n      <td>Group 56</td>\n      <td>Resolver 17</td>\n      <td>True</td>\n      <td>False</td>\n      <td>Do Not Notify</td>\n      <td>code 5</td>\n      <td>Resolved by 149</td>\n      <td>29/2/2016 11:29</td>\n      <td>5/3/2016 12:00</td>\n    </tr>\n    <tr>\n      <th>3</th>\n      <td>INC0000045</td>\n      <td>Closed</td>\n      <td>False</td>\n      <td>1</td>\n      <td>0.0</td>\n      <td>4.0</td>\n      <td>True</td>\n      <td>Caller 2403</td>\n      <td>Opened by  8</td>\n      <td>29/2/2016 01:16</td>\n      <td>...</td>\n      <td>3 - Moderate</td>\n      <td>Group 56</td>\n      <td>Resolver 17</td>\n      <td>True</td>\n      <td>False</td>\n      <td>Do Not Notify</td>\n      <td>code 5</td>\n      <td>Resolved by 149</td>\n      <td>29/2/2016 11:29</td>\n      <td>5/3/2016 12:00</td>\n    </tr>\n    <tr>\n      <th>4</th>\n      <td>INC0000047</td>\n      <td>New</td>\n      <td>True</td>\n      <td>1</td>\n      <td>0.0</td>\n      <td>0.0</td>\n      <td>True</td>\n      <td>Caller 2403</td>\n      <td>Opened by  397</td>\n      <td>29/2/2016 04:40</td>\n      <td>...</td>\n      <td>3 - Moderate</td>\n      <td>Group 70</td>\n      <td>Resolver 89</td>\n      <td>True</td>\n      <td>False</td>\n      <td>Do Not Notify</td>\n      <td>code 5</td>\n      <td>Resolved by 81</td>\n      <td>1/3/2016 09:52</td>\n      <td>6/3/2016 10:00</td>\n    </tr>\n  </tbody>\n</table>\n<p>5 rows × 31 columns</p>\n</div>"
     },
     "metadata": {},
     "execution_count": 316
    }
   ],
   "source": [
    "incident_processed.head()"
   ]
  },
  {
   "cell_type": "code",
   "execution_count": 317,
   "metadata": {},
   "outputs": [
    {
     "output_type": "execute_result",
     "data": {
      "text/plain": [
       "Index(['number', 'incident_state', 'active', 'reassignment_count',\n",
       "       'reopen_count', 'sys_mod_count', 'made_sla', 'caller_id', 'opened_by',\n",
       "       'opened_at', 'sys_created_by', 'sys_created_at', 'sys_updated_by',\n",
       "       'sys_updated_at', 'contact_type', 'location', 'category', 'subcategory',\n",
       "       'u_symptom', 'impact', 'urgency', 'priority', 'assignment_group',\n",
       "       'assigned_to', 'knowledge', 'u_priority_confirmation', 'notify',\n",
       "       'closed_code', 'resolved_by', 'resolved_at', 'closed_at'],\n",
       "      dtype='object')"
      ]
     },
     "metadata": {},
     "execution_count": 317
    }
   ],
   "source": [
    "incident_processed.columns"
   ]
  },
  {
   "cell_type": "code",
   "execution_count": 318,
   "metadata": {},
   "outputs": [],
   "source": [
    "# Applying labelencoder to transform categorical value to numerical value\n",
    "from sklearn.preprocessing import LabelEncoder\n",
    "le = LabelEncoder()\n",
    "incident_processed[['incident_state', 'active', 'reassignment_count','reopen_count', 'sys_mod_count', 'made_sla', 'caller_id',        'opened_by','sys_created_by','sys_updated_by','contact_type', 'location', 'category', 'subcategory','u_symptom', 'impact',            'urgency', 'priority', 'assignment_group','assigned_to', 'knowledge', 'u_priority_confirmation', 'notify','closed_code',              'resolved_by']] = incident_processed[['incident_state', 'active', 'reassignment_count','reopen_count', 'sys_mod_count', 'made_sla', 'caller_id',        'opened_by','sys_created_by','sys_updated_by','contact_type', 'location', 'category', 'subcategory','u_symptom', 'impact',            'urgency', 'priority', 'assignment_group','assigned_to', 'knowledge', 'u_priority_confirmation', 'notify','closed_code',              'resolved_by']].apply(le.fit_transform) \n",
    "#df['number'] = incident_processed['number']"
   ]
  },
  {
   "cell_type": "code",
   "execution_count": 319,
   "metadata": {},
   "outputs": [
    {
     "output_type": "execute_result",
     "data": {
      "text/plain": [
       "       number  incident_state  active  reassignment_count  reopen_count  \\\n",
       "0  INC0000045               3       1                   0             0   \n",
       "1  INC0000045               4       1                   0             0   \n",
       "2  INC0000045               4       1                   0             0   \n",
       "3  INC0000045               2       0                   0             0   \n",
       "4  INC0000047               3       1                   0             0   \n",
       "5  INC0000047               0       1                   0             0   \n",
       "6  INC0000047               0       1                   0             0   \n",
       "7  INC0000047               0       1                   0             0   \n",
       "\n",
       "   sys_mod_count  made_sla  caller_id  opened_by        opened_at  ...  \\\n",
       "0              0         1       1462        200  29/2/2016 01:16  ...   \n",
       "1              2         1       1462        200  29/2/2016 01:16  ...   \n",
       "2              3         1       1462        200  29/2/2016 01:16  ...   \n",
       "3              4         1       1462        200  29/2/2016 01:16  ...   \n",
       "4              0         1       1462        120  29/2/2016 04:40  ...   \n",
       "5              1         1       1462        120  29/2/2016 04:40  ...   \n",
       "6              2         1       1462        120  29/2/2016 04:40  ...   \n",
       "7              3         1       1462        120  29/2/2016 04:40  ...   \n",
       "\n",
       "   priority assignment_group  assigned_to knowledge  u_priority_confirmation  \\\n",
       "0         2               47           73         1                        0   \n",
       "1         2               47           73         1                        0   \n",
       "2         2               47           73         1                        0   \n",
       "3         2               47           73         1                        0   \n",
       "4         2               63          223         1                        0   \n",
       "5         2               15          167         1                        0   \n",
       "6         2               15          167         1                        0   \n",
       "7         2               15          167         1                        0   \n",
       "\n",
       "   notify  closed_code  resolved_by      resolved_at       closed_at  \n",
       "0       0           12           51  29/2/2016 11:29  5/3/2016 12:00  \n",
       "1       0           12           51  29/2/2016 11:29  5/3/2016 12:00  \n",
       "2       0           12           51  29/2/2016 11:29  5/3/2016 12:00  \n",
       "3       0           12           51  29/2/2016 11:29  5/3/2016 12:00  \n",
       "4       0           12          196   1/3/2016 09:52  6/3/2016 10:00  \n",
       "5       0           12          196   1/3/2016 09:52  6/3/2016 10:00  \n",
       "6       0           12          196   1/3/2016 09:52  6/3/2016 10:00  \n",
       "7       0           12          196   1/3/2016 09:52  6/3/2016 10:00  \n",
       "\n",
       "[8 rows x 31 columns]"
      ],
      "text/html": "<div>\n<style scoped>\n    .dataframe tbody tr th:only-of-type {\n        vertical-align: middle;\n    }\n\n    .dataframe tbody tr th {\n        vertical-align: top;\n    }\n\n    .dataframe thead th {\n        text-align: right;\n    }\n</style>\n<table border=\"1\" class=\"dataframe\">\n  <thead>\n    <tr style=\"text-align: right;\">\n      <th></th>\n      <th>number</th>\n      <th>incident_state</th>\n      <th>active</th>\n      <th>reassignment_count</th>\n      <th>reopen_count</th>\n      <th>sys_mod_count</th>\n      <th>made_sla</th>\n      <th>caller_id</th>\n      <th>opened_by</th>\n      <th>opened_at</th>\n      <th>...</th>\n      <th>priority</th>\n      <th>assignment_group</th>\n      <th>assigned_to</th>\n      <th>knowledge</th>\n      <th>u_priority_confirmation</th>\n      <th>notify</th>\n      <th>closed_code</th>\n      <th>resolved_by</th>\n      <th>resolved_at</th>\n      <th>closed_at</th>\n    </tr>\n  </thead>\n  <tbody>\n    <tr>\n      <th>0</th>\n      <td>INC0000045</td>\n      <td>3</td>\n      <td>1</td>\n      <td>0</td>\n      <td>0</td>\n      <td>0</td>\n      <td>1</td>\n      <td>1462</td>\n      <td>200</td>\n      <td>29/2/2016 01:16</td>\n      <td>...</td>\n      <td>2</td>\n      <td>47</td>\n      <td>73</td>\n      <td>1</td>\n      <td>0</td>\n      <td>0</td>\n      <td>12</td>\n      <td>51</td>\n      <td>29/2/2016 11:29</td>\n      <td>5/3/2016 12:00</td>\n    </tr>\n    <tr>\n      <th>1</th>\n      <td>INC0000045</td>\n      <td>4</td>\n      <td>1</td>\n      <td>0</td>\n      <td>0</td>\n      <td>2</td>\n      <td>1</td>\n      <td>1462</td>\n      <td>200</td>\n      <td>29/2/2016 01:16</td>\n      <td>...</td>\n      <td>2</td>\n      <td>47</td>\n      <td>73</td>\n      <td>1</td>\n      <td>0</td>\n      <td>0</td>\n      <td>12</td>\n      <td>51</td>\n      <td>29/2/2016 11:29</td>\n      <td>5/3/2016 12:00</td>\n    </tr>\n    <tr>\n      <th>2</th>\n      <td>INC0000045</td>\n      <td>4</td>\n      <td>1</td>\n      <td>0</td>\n      <td>0</td>\n      <td>3</td>\n      <td>1</td>\n      <td>1462</td>\n      <td>200</td>\n      <td>29/2/2016 01:16</td>\n      <td>...</td>\n      <td>2</td>\n      <td>47</td>\n      <td>73</td>\n      <td>1</td>\n      <td>0</td>\n      <td>0</td>\n      <td>12</td>\n      <td>51</td>\n      <td>29/2/2016 11:29</td>\n      <td>5/3/2016 12:00</td>\n    </tr>\n    <tr>\n      <th>3</th>\n      <td>INC0000045</td>\n      <td>2</td>\n      <td>0</td>\n      <td>0</td>\n      <td>0</td>\n      <td>4</td>\n      <td>1</td>\n      <td>1462</td>\n      <td>200</td>\n      <td>29/2/2016 01:16</td>\n      <td>...</td>\n      <td>2</td>\n      <td>47</td>\n      <td>73</td>\n      <td>1</td>\n      <td>0</td>\n      <td>0</td>\n      <td>12</td>\n      <td>51</td>\n      <td>29/2/2016 11:29</td>\n      <td>5/3/2016 12:00</td>\n    </tr>\n    <tr>\n      <th>4</th>\n      <td>INC0000047</td>\n      <td>3</td>\n      <td>1</td>\n      <td>0</td>\n      <td>0</td>\n      <td>0</td>\n      <td>1</td>\n      <td>1462</td>\n      <td>120</td>\n      <td>29/2/2016 04:40</td>\n      <td>...</td>\n      <td>2</td>\n      <td>63</td>\n      <td>223</td>\n      <td>1</td>\n      <td>0</td>\n      <td>0</td>\n      <td>12</td>\n      <td>196</td>\n      <td>1/3/2016 09:52</td>\n      <td>6/3/2016 10:00</td>\n    </tr>\n    <tr>\n      <th>5</th>\n      <td>INC0000047</td>\n      <td>0</td>\n      <td>1</td>\n      <td>0</td>\n      <td>0</td>\n      <td>1</td>\n      <td>1</td>\n      <td>1462</td>\n      <td>120</td>\n      <td>29/2/2016 04:40</td>\n      <td>...</td>\n      <td>2</td>\n      <td>15</td>\n      <td>167</td>\n      <td>1</td>\n      <td>0</td>\n      <td>0</td>\n      <td>12</td>\n      <td>196</td>\n      <td>1/3/2016 09:52</td>\n      <td>6/3/2016 10:00</td>\n    </tr>\n    <tr>\n      <th>6</th>\n      <td>INC0000047</td>\n      <td>0</td>\n      <td>1</td>\n      <td>0</td>\n      <td>0</td>\n      <td>2</td>\n      <td>1</td>\n      <td>1462</td>\n      <td>120</td>\n      <td>29/2/2016 04:40</td>\n      <td>...</td>\n      <td>2</td>\n      <td>15</td>\n      <td>167</td>\n      <td>1</td>\n      <td>0</td>\n      <td>0</td>\n      <td>12</td>\n      <td>196</td>\n      <td>1/3/2016 09:52</td>\n      <td>6/3/2016 10:00</td>\n    </tr>\n    <tr>\n      <th>7</th>\n      <td>INC0000047</td>\n      <td>0</td>\n      <td>1</td>\n      <td>0</td>\n      <td>0</td>\n      <td>3</td>\n      <td>1</td>\n      <td>1462</td>\n      <td>120</td>\n      <td>29/2/2016 04:40</td>\n      <td>...</td>\n      <td>2</td>\n      <td>15</td>\n      <td>167</td>\n      <td>1</td>\n      <td>0</td>\n      <td>0</td>\n      <td>12</td>\n      <td>196</td>\n      <td>1/3/2016 09:52</td>\n      <td>6/3/2016 10:00</td>\n    </tr>\n  </tbody>\n</table>\n<p>8 rows × 31 columns</p>\n</div>"
     },
     "metadata": {},
     "execution_count": 319
    }
   ],
   "source": [
    "incident_processed.head(8)"
   ]
  },
  {
   "cell_type": "code",
   "execution_count": 320,
   "metadata": {},
   "outputs": [
    {
     "output_type": "execute_result",
     "data": {
      "text/plain": [
       "Index(['number', 'incident_state', 'active', 'reassignment_count',\n",
       "       'reopen_count', 'sys_mod_count', 'made_sla', 'caller_id', 'opened_by',\n",
       "       'opened_at', 'sys_created_by', 'sys_created_at', 'sys_updated_by',\n",
       "       'sys_updated_at', 'contact_type', 'location', 'category', 'subcategory',\n",
       "       'u_symptom', 'impact', 'urgency', 'priority', 'assignment_group',\n",
       "       'assigned_to', 'knowledge', 'u_priority_confirmation', 'notify',\n",
       "       'closed_code', 'resolved_by', 'resolved_at', 'closed_at'],\n",
       "      dtype='object')"
      ]
     },
     "metadata": {},
     "execution_count": 320
    }
   ],
   "source": [
    "incident_processed.columns"
   ]
  },
  {
   "cell_type": "code",
   "execution_count": 321,
   "metadata": {},
   "outputs": [
    {
     "output_type": "execute_result",
     "data": {
      "text/plain": [
       "array([0, 1, 2, 3, 4], dtype=int64)"
      ]
     },
     "metadata": {},
     "execution_count": 321
    }
   ],
   "source": [
    "incident_processed['reassignment_count'].unique()"
   ]
  },
  {
   "cell_type": "code",
   "execution_count": 322,
   "metadata": {},
   "outputs": [
    {
     "output_type": "execute_result",
     "data": {
      "text/plain": [
       "               priority\n",
       "                  count\n",
       "incident_state         \n",
       "0                 38716\n",
       "1                 15848\n",
       "2                 24985\n",
       "3                 36407\n",
       "4                 25751"
      ],
      "text/html": "<div>\n<style scoped>\n    .dataframe tbody tr th:only-of-type {\n        vertical-align: middle;\n    }\n\n    .dataframe tbody tr th {\n        vertical-align: top;\n    }\n\n    .dataframe thead tr th {\n        text-align: left;\n    }\n\n    .dataframe thead tr:last-of-type th {\n        text-align: right;\n    }\n</style>\n<table border=\"1\" class=\"dataframe\">\n  <thead>\n    <tr>\n      <th></th>\n      <th>priority</th>\n    </tr>\n    <tr>\n      <th></th>\n      <th>count</th>\n    </tr>\n    <tr>\n      <th>incident_state</th>\n      <th></th>\n    </tr>\n  </thead>\n  <tbody>\n    <tr>\n      <th>0</th>\n      <td>38716</td>\n    </tr>\n    <tr>\n      <th>1</th>\n      <td>15848</td>\n    </tr>\n    <tr>\n      <th>2</th>\n      <td>24985</td>\n    </tr>\n    <tr>\n      <th>3</th>\n      <td>36407</td>\n    </tr>\n    <tr>\n      <th>4</th>\n      <td>25751</td>\n    </tr>\n  </tbody>\n</table>\n</div>"
     },
     "metadata": {},
     "execution_count": 322
    }
   ],
   "source": [
    "incident_processed[['priority','incident_state']].groupby('incident_state').agg(['count'])"
   ]
  },
  {
   "cell_type": "code",
   "execution_count": 323,
   "metadata": {},
   "outputs": [],
   "source": [
    "# df['active'] = df['active'].apply(lambda x : 1 if x == 'True' else 0)\n",
    "# df['made_sla'] = df['made_sla'].apply(lambda x : 1 if x == 'True' else 0)\n",
    "# df['knowledge'] = df['knowledge'].apply(lambda x : 1 if x == 'True' else 0)\n",
    "# df['u_priority_confirmation'] = df['u_priority_confirmation'].apply(lambda x : 1 if x == 'True' else 0)\n",
    "# df['priority'] = df['priority'].apply(lambda x : 1 if '1' in x else 2 if '2' in x else 3 if '3' in x else 4)\n",
    "# df['impact'] = df['impact'].apply(lambda x : 1 if '1' in x else 2 if '2' in x else 3 if '3' in x else 4)\n",
    "# df['urgency'] = df['urgency'].apply(lambda x : 1 if '1' in x else 2 if '2' in x else 3 if '3' in x else 4)\n",
    "# reass_count_labels = [1,2,3,4,5]\n",
    "# df['reassignment_count'] = pd.cut(df['reassignment_count'],bins = 5, labels = reass_count_labels)\n",
    "# df = pd.get_dummies(df,columns = ['incident_state'])"
   ]
  },
  {
   "cell_type": "code",
   "execution_count": 324,
   "metadata": {},
   "outputs": [],
   "source": [
    "#Convert date time string values into pandas datetime values\n",
    "incident_processed['closed_at'] = pd.to_datetime(incident_processed['closed_at'])\n",
    "incident_processed['opened_at'] = pd.to_datetime(incident_processed['opened_at'])\n",
    "incident_processed['resolved_at'] = pd.to_datetime(incident_processed['resolved_at'])\n",
    "incident_processed['sys_updated_at'] = pd.to_datetime(incident_processed['sys_updated_at'])\n"
   ]
  },
  {
   "cell_type": "code",
   "execution_count": 325,
   "metadata": {},
   "outputs": [],
   "source": [
    "#calculate features like lifetime = time the incident was active, action_at = time taken when first action was undertaken\n",
    "incident_processed['lifetime'] = incident_processed['closed_at'] - incident_processed['opened_at']\n",
    "incident_processed['action_at'] = incident_processed['sys_updated_at'] - incident_processed['opened_at']"
   ]
  },
  {
   "cell_type": "code",
   "execution_count": 326,
   "metadata": {},
   "outputs": [],
   "source": [
    "#extract only the day values from datetime value for features\n",
    "incident_processed['lifetime'] = incident_processed['lifetime'].dt.days\n",
    "incident_processed['action_at'] = incident_processed['action_at'].dt.days"
   ]
  },
  {
   "cell_type": "code",
   "execution_count": 327,
   "metadata": {},
   "outputs": [
    {
     "output_type": "execute_result",
     "data": {
      "text/plain": [
       "(489       INC0000174\n",
       " 490       INC0000174\n",
       " 491       INC0000174\n",
       " 492       INC0000174\n",
       " 493       INC0000174\n",
       "              ...    \n",
       " 141665    INC0118952\n",
       " 141666    INC0118952\n",
       " 141667    INC0118999\n",
       " 141668    INC0118999\n",
       " 141669    INC0118999\n",
       " Name: number, Length: 50482, dtype: object,\n",
       " 489      2016-02-29 10:39:00\n",
       " 490      2016-02-29 10:39:00\n",
       " 491      2016-02-29 10:39:00\n",
       " 492      2016-02-29 10:39:00\n",
       " 493      2016-02-29 10:39:00\n",
       "                  ...        \n",
       " 141665   2017-10-02 14:48:00\n",
       " 141666   2017-10-02 14:48:00\n",
       " 141667   2017-10-02 15:55:00\n",
       " 141668   2017-10-02 15:55:00\n",
       " 141669   2017-10-02 15:55:00\n",
       " Name: opened_at, Length: 50482, dtype: datetime64[ns])"
      ]
     },
     "metadata": {},
     "execution_count": 327
    }
   ],
   "source": [
    "#check number of records having close time before open time (which is wrong : It is because the the record opentime was updated by the user. Hence we extract the original open time by sorting cases with similar case number in ascending order and taking the opentime from the record with earliest system updated time)\n",
    "incident_processed['number'][incident_processed['lifetime'] < 0], incident_processed['opened_at'][incident_processed['lifetime'] < 0]"
   ]
  },
  {
   "cell_type": "code",
   "execution_count": 328,
   "metadata": {},
   "outputs": [],
   "source": [
    "def update_same_case_records(df):\n",
    "    df.reset_index()\n",
    "    unique_case_ids = df['number'].unique()\n",
    "    if len(unique_case_ids) > 0:\n",
    "        for case_id in tqdm(unique_case_ids):\n",
    "            #indicidual case id reccords\n",
    "            df_case = df[df['number'] == case_id]\n",
    "            #sort the column by system updated at\n",
    "            sorted_df_case = df_case.sort_values('sys_updated_at')\n",
    "            #sorted_df_case.reset_index(inplace=True)\n",
    "            initial_record = sorted_df_case.iloc[[0]]\n",
    "            latest_record = sorted_df_case.iloc[[sorted_df_case.shape[0]-1]]\n",
    "            lifetime = latest_record['closed_at'] - latest_record['opened_at']\n",
    "            lifetime = lifetime.dt.days.values[0]\n",
    "            if  lifetime <= 0: latest_record['opened_at'] = initial_record['sys_updated_at'].values\n",
    "            df = df[df['number'] != case_id]\n",
    "            if df['number'].isnull().values.any():\n",
    "                df = pd.concat([df,latest_record.to_frame()])\n",
    "            else: df = pd.concat([df,latest_record])\n",
    "    return df\n"
   ]
  },
  {
   "cell_type": "code",
   "execution_count": 329,
   "metadata": {},
   "outputs": [],
   "source": [
    "df_same_case = incident_processed[incident_processed['lifetime'] < 0]\n",
    "df_unique_case = incident_processed[incident_processed['lifetime'] > 0]"
   ]
  },
  {
   "cell_type": "code",
   "execution_count": 330,
   "metadata": {
    "tags": []
   },
   "outputs": [
    {
     "output_type": "stream",
     "name": "stderr",
     "text": [
      "100%|██████████| 8614/8614 [03:06<00:00, 46.28it/s]\n"
     ]
    }
   ],
   "source": [
    "df_same_case = update_same_case_records(df_same_case)"
   ]
  },
  {
   "cell_type": "code",
   "execution_count": 341,
   "metadata": {},
   "outputs": [],
   "source": [
    "#merge unique cases and the newly created df having single record for every case number\n",
    "df_new = pd.concat([df_unique_case,df_same_case])"
   ]
  },
  {
   "cell_type": "code",
   "execution_count": 342,
   "metadata": {},
   "outputs": [],
   "source": [
    "# create features lifetime and action_at\n",
    "df_new['lifetime'] = df_new['closed_at'] - df_new['opened_at']\n",
    "df_new['action_at'] = df_new['sys_updated_at'] - df_new['opened_at']\n",
    "\n",
    "#store only days values as features\n",
    "df_new['lifetime'] = df_new['lifetime'].dt.days\n",
    "df_new['action_at'] = df_new['action_at'].dt.days\n",
    "\n",
    "#scale lifetime and action_at features\n",
    "features = ['lifetime','action_at']\n",
    "df_new[features] = scaler.fit_transform(df_new[features])"
   ]
  },
  {
   "cell_type": "code",
   "execution_count": 343,
   "metadata": {},
   "outputs": [
    {
     "output_type": "execute_result",
     "data": {
      "text/plain": [
       "       number  incident_state  active  reassignment_count  reopen_count  \\\n",
       "0  INC0000045               3       1                   0             0   \n",
       "1  INC0000045               4       1                   0             0   \n",
       "2  INC0000045               4       1                   0             0   \n",
       "3  INC0000045               2       0                   0             0   \n",
       "4  INC0000047               3       1                   0             0   \n",
       "\n",
       "   sys_mod_count  made_sla  caller_id  opened_by           opened_at  ...  \\\n",
       "0              0         1       1462        200 2016-02-29 01:16:00  ...   \n",
       "1              2         1       1462        200 2016-02-29 01:16:00  ...   \n",
       "2              3         1       1462        200 2016-02-29 01:16:00  ...   \n",
       "3              4         1       1462        200 2016-02-29 01:16:00  ...   \n",
       "4              0         1       1462        120 2016-02-29 04:40:00  ...   \n",
       "\n",
       "   assigned_to knowledge  u_priority_confirmation notify  closed_code  \\\n",
       "0           73         1                        0      0           12   \n",
       "1           73         1                        0      0           12   \n",
       "2           73         1                        0      0           12   \n",
       "3           73         1                        0      0           12   \n",
       "4          223         1                        0      0           12   \n",
       "\n",
       "   resolved_by         resolved_at           closed_at  lifetime  action_at  \n",
       "0           51 2016-02-29 11:29:00 2016-05-03 12:00:00  0.106136   0.335171  \n",
       "1           51 2016-02-29 11:29:00 2016-05-03 12:00:00  0.106136   0.335171  \n",
       "2           51 2016-02-29 11:29:00 2016-05-03 12:00:00  0.106136   0.335171  \n",
       "3           51 2016-02-29 11:29:00 2016-05-03 12:00:00  0.106136   0.405733  \n",
       "4          196 2016-01-03 09:52:00 2016-06-03 10:00:00  0.157546   0.335171  \n",
       "\n",
       "[5 rows x 33 columns]"
      ],
      "text/html": "<div>\n<style scoped>\n    .dataframe tbody tr th:only-of-type {\n        vertical-align: middle;\n    }\n\n    .dataframe tbody tr th {\n        vertical-align: top;\n    }\n\n    .dataframe thead th {\n        text-align: right;\n    }\n</style>\n<table border=\"1\" class=\"dataframe\">\n  <thead>\n    <tr style=\"text-align: right;\">\n      <th></th>\n      <th>number</th>\n      <th>incident_state</th>\n      <th>active</th>\n      <th>reassignment_count</th>\n      <th>reopen_count</th>\n      <th>sys_mod_count</th>\n      <th>made_sla</th>\n      <th>caller_id</th>\n      <th>opened_by</th>\n      <th>opened_at</th>\n      <th>...</th>\n      <th>assigned_to</th>\n      <th>knowledge</th>\n      <th>u_priority_confirmation</th>\n      <th>notify</th>\n      <th>closed_code</th>\n      <th>resolved_by</th>\n      <th>resolved_at</th>\n      <th>closed_at</th>\n      <th>lifetime</th>\n      <th>action_at</th>\n    </tr>\n  </thead>\n  <tbody>\n    <tr>\n      <th>0</th>\n      <td>INC0000045</td>\n      <td>3</td>\n      <td>1</td>\n      <td>0</td>\n      <td>0</td>\n      <td>0</td>\n      <td>1</td>\n      <td>1462</td>\n      <td>200</td>\n      <td>2016-02-29 01:16:00</td>\n      <td>...</td>\n      <td>73</td>\n      <td>1</td>\n      <td>0</td>\n      <td>0</td>\n      <td>12</td>\n      <td>51</td>\n      <td>2016-02-29 11:29:00</td>\n      <td>2016-05-03 12:00:00</td>\n      <td>0.106136</td>\n      <td>0.335171</td>\n    </tr>\n    <tr>\n      <th>1</th>\n      <td>INC0000045</td>\n      <td>4</td>\n      <td>1</td>\n      <td>0</td>\n      <td>0</td>\n      <td>2</td>\n      <td>1</td>\n      <td>1462</td>\n      <td>200</td>\n      <td>2016-02-29 01:16:00</td>\n      <td>...</td>\n      <td>73</td>\n      <td>1</td>\n      <td>0</td>\n      <td>0</td>\n      <td>12</td>\n      <td>51</td>\n      <td>2016-02-29 11:29:00</td>\n      <td>2016-05-03 12:00:00</td>\n      <td>0.106136</td>\n      <td>0.335171</td>\n    </tr>\n    <tr>\n      <th>2</th>\n      <td>INC0000045</td>\n      <td>4</td>\n      <td>1</td>\n      <td>0</td>\n      <td>0</td>\n      <td>3</td>\n      <td>1</td>\n      <td>1462</td>\n      <td>200</td>\n      <td>2016-02-29 01:16:00</td>\n      <td>...</td>\n      <td>73</td>\n      <td>1</td>\n      <td>0</td>\n      <td>0</td>\n      <td>12</td>\n      <td>51</td>\n      <td>2016-02-29 11:29:00</td>\n      <td>2016-05-03 12:00:00</td>\n      <td>0.106136</td>\n      <td>0.335171</td>\n    </tr>\n    <tr>\n      <th>3</th>\n      <td>INC0000045</td>\n      <td>2</td>\n      <td>0</td>\n      <td>0</td>\n      <td>0</td>\n      <td>4</td>\n      <td>1</td>\n      <td>1462</td>\n      <td>200</td>\n      <td>2016-02-29 01:16:00</td>\n      <td>...</td>\n      <td>73</td>\n      <td>1</td>\n      <td>0</td>\n      <td>0</td>\n      <td>12</td>\n      <td>51</td>\n      <td>2016-02-29 11:29:00</td>\n      <td>2016-05-03 12:00:00</td>\n      <td>0.106136</td>\n      <td>0.405733</td>\n    </tr>\n    <tr>\n      <th>4</th>\n      <td>INC0000047</td>\n      <td>3</td>\n      <td>1</td>\n      <td>0</td>\n      <td>0</td>\n      <td>0</td>\n      <td>1</td>\n      <td>1462</td>\n      <td>120</td>\n      <td>2016-02-29 04:40:00</td>\n      <td>...</td>\n      <td>223</td>\n      <td>1</td>\n      <td>0</td>\n      <td>0</td>\n      <td>12</td>\n      <td>196</td>\n      <td>2016-01-03 09:52:00</td>\n      <td>2016-06-03 10:00:00</td>\n      <td>0.157546</td>\n      <td>0.335171</td>\n    </tr>\n  </tbody>\n</table>\n<p>5 rows × 33 columns</p>\n</div>"
     },
     "metadata": {},
     "execution_count": 343
    }
   ],
   "source": [
    "df_new.head()"
   ]
  },
  {
   "cell_type": "code",
   "execution_count": 344,
   "metadata": {},
   "outputs": [
    {
     "output_type": "execute_result",
     "data": {
      "text/plain": [
       "(Series([], Name: number, dtype: object),\n",
       " Series([], Name: opened_at, dtype: datetime64[ns]))"
      ]
     },
     "metadata": {},
     "execution_count": 344
    }
   ],
   "source": [
    "#check if there are records with negative lifetime\n",
    "df_new['number'][df_new['lifetime'] < 0], df_new['opened_at'][df_new['lifetime'] < 0]"
   ]
  },
  {
   "cell_type": "code",
   "execution_count": 345,
   "metadata": {},
   "outputs": [],
   "source": [
    "# store case numbers for analytical purpose\n",
    "ids = df_new['number']\n",
    "df_new.drop(['number'],inplace = True, axis = 1)"
   ]
  },
  {
   "cell_type": "code",
   "execution_count": 346,
   "metadata": {},
   "outputs": [
    {
     "output_type": "execute_result",
     "data": {
      "text/plain": [
       "Index(['incident_state', 'active', 'reassignment_count', 'reopen_count',\n",
       "       'sys_mod_count', 'made_sla', 'caller_id', 'opened_by', 'opened_at',\n",
       "       'sys_created_by', 'sys_created_at', 'sys_updated_by', 'sys_updated_at',\n",
       "       'contact_type', 'location', 'category', 'subcategory', 'u_symptom',\n",
       "       'impact', 'urgency', 'priority', 'assignment_group', 'assigned_to',\n",
       "       'knowledge', 'u_priority_confirmation', 'notify', 'closed_code',\n",
       "       'resolved_by', 'resolved_at', 'closed_at', 'lifetime', 'action_at'],\n",
       "      dtype='object')"
      ]
     },
     "metadata": {},
     "execution_count": 346
    }
   ],
   "source": [
    "df_new.columns"
   ]
  },
  {
   "cell_type": "code",
   "execution_count": 347,
   "metadata": {},
   "outputs": [],
   "source": [
    "# drop irrelevant features\n",
    "df_new.drop(['closed_at','opened_at','sys_updated_at','sys_created_at','resolved_at','closed_code','category','subcategory','u_symptom','contact_type','caller_id','opened_by','sys_created_by','sys_updated_by','assigned_to','resolved_by','location','assignment_group'],axis = 1,inplace=True)"
   ]
  },
  {
   "cell_type": "code",
   "execution_count": 348,
   "metadata": {},
   "outputs": [],
   "source": [
    "# reset index values and drop index column for the model input\n",
    "df_new.reset_index(inplace= True)\n",
    "df_new.drop(['index'],axis = 1,inplace=True)"
   ]
  },
  {
   "cell_type": "code",
   "execution_count": 349,
   "metadata": {},
   "outputs": [
    {
     "output_type": "execute_result",
     "data": {
      "text/plain": [
       "   incident_state  active  reassignment_count  reopen_count  sys_mod_count  \\\n",
       "0               3       1                   0             0              0   \n",
       "1               4       1                   0             0              2   \n",
       "2               4       1                   0             0              3   \n",
       "3               2       0                   0             0              4   \n",
       "4               3       1                   0             0              0   \n",
       "\n",
       "   made_sla  impact  urgency  priority  knowledge  u_priority_confirmation  \\\n",
       "0         1       1        1         2          1                        0   \n",
       "1         1       1        1         2          1                        0   \n",
       "2         1       1        1         2          1                        0   \n",
       "3         1       1        1         2          1                        0   \n",
       "4         1       1        1         2          1                        0   \n",
       "\n",
       "   notify  lifetime  action_at  \n",
       "0       0  0.106136   0.335171  \n",
       "1       0  0.106136   0.335171  \n",
       "2       0  0.106136   0.335171  \n",
       "3       0  0.106136   0.405733  \n",
       "4       0  0.157546   0.335171  "
      ],
      "text/html": "<div>\n<style scoped>\n    .dataframe tbody tr th:only-of-type {\n        vertical-align: middle;\n    }\n\n    .dataframe tbody tr th {\n        vertical-align: top;\n    }\n\n    .dataframe thead th {\n        text-align: right;\n    }\n</style>\n<table border=\"1\" class=\"dataframe\">\n  <thead>\n    <tr style=\"text-align: right;\">\n      <th></th>\n      <th>incident_state</th>\n      <th>active</th>\n      <th>reassignment_count</th>\n      <th>reopen_count</th>\n      <th>sys_mod_count</th>\n      <th>made_sla</th>\n      <th>impact</th>\n      <th>urgency</th>\n      <th>priority</th>\n      <th>knowledge</th>\n      <th>u_priority_confirmation</th>\n      <th>notify</th>\n      <th>lifetime</th>\n      <th>action_at</th>\n    </tr>\n  </thead>\n  <tbody>\n    <tr>\n      <th>0</th>\n      <td>3</td>\n      <td>1</td>\n      <td>0</td>\n      <td>0</td>\n      <td>0</td>\n      <td>1</td>\n      <td>1</td>\n      <td>1</td>\n      <td>2</td>\n      <td>1</td>\n      <td>0</td>\n      <td>0</td>\n      <td>0.106136</td>\n      <td>0.335171</td>\n    </tr>\n    <tr>\n      <th>1</th>\n      <td>4</td>\n      <td>1</td>\n      <td>0</td>\n      <td>0</td>\n      <td>2</td>\n      <td>1</td>\n      <td>1</td>\n      <td>1</td>\n      <td>2</td>\n      <td>1</td>\n      <td>0</td>\n      <td>0</td>\n      <td>0.106136</td>\n      <td>0.335171</td>\n    </tr>\n    <tr>\n      <th>2</th>\n      <td>4</td>\n      <td>1</td>\n      <td>0</td>\n      <td>0</td>\n      <td>3</td>\n      <td>1</td>\n      <td>1</td>\n      <td>1</td>\n      <td>2</td>\n      <td>1</td>\n      <td>0</td>\n      <td>0</td>\n      <td>0.106136</td>\n      <td>0.335171</td>\n    </tr>\n    <tr>\n      <th>3</th>\n      <td>2</td>\n      <td>0</td>\n      <td>0</td>\n      <td>0</td>\n      <td>4</td>\n      <td>1</td>\n      <td>1</td>\n      <td>1</td>\n      <td>2</td>\n      <td>1</td>\n      <td>0</td>\n      <td>0</td>\n      <td>0.106136</td>\n      <td>0.405733</td>\n    </tr>\n    <tr>\n      <th>4</th>\n      <td>3</td>\n      <td>1</td>\n      <td>0</td>\n      <td>0</td>\n      <td>0</td>\n      <td>1</td>\n      <td>1</td>\n      <td>1</td>\n      <td>2</td>\n      <td>1</td>\n      <td>0</td>\n      <td>0</td>\n      <td>0.157546</td>\n      <td>0.335171</td>\n    </tr>\n  </tbody>\n</table>\n</div>"
     },
     "metadata": {},
     "execution_count": 349
    }
   ],
   "source": [
    "df_new.head()"
   ]
  },
  {
   "cell_type": "code",
   "execution_count": 350,
   "metadata": {},
   "outputs": [],
   "source": [
    "df_new.to_csv('Data/reopened.csv')"
   ]
  }
 ],
 "metadata": {
  "kernelspec": {
   "display_name": "Python 3",
   "language": "python",
   "name": "python3"
  },
  "language_info": {
   "codemirror_mode": {
    "name": "ipython",
    "version": 3
   },
   "file_extension": ".py",
   "mimetype": "text/x-python",
   "name": "python",
   "nbconvert_exporter": "python",
   "pygments_lexer": "ipython3",
   "version": "3.8.5-final"
  }
 },
 "nbformat": 4,
 "nbformat_minor": 4
}